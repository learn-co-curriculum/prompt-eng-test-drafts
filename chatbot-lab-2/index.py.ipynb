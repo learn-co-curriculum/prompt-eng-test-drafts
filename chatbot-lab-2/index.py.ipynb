{
 "cells": [
  {
   "cell_type": "markdown",
   "id": "16384208",
   "metadata": {},
   "source": [
    "## Automated Prompt Engineering with OpenAPI\n",
    "\n",
    "**Step 1: Set up OpenAI API access**\n",
    "- Sign up for an OpenAI account if you don't have one already.\n",
    "- Generate an API key from the OpenAI dashboard. Store this in a secure location and save it for step 2.\n",
    "- Install the OpenAI Python library by running `pip install openai` in your terminal."
   ]
  },
  {
   "cell_type": "code",
   "execution_count": null,
   "id": "69ef7460",
   "metadata": {},
   "outputs": [],
   "source": [
    "# run this cell to to install openai\n",
    "# !pip install openai"
   ]
  },
  {
   "cell_type": "markdown",
   "id": "17cc7ae1",
   "metadata": {},
   "source": [
    "**Step 2: Store OpenAI API credentials**\n",
    "- Create a file named `.env` and put it in your project directory.\n",
    "- Then, populate the file with the following, making sure to substitute your API key between the quotes:\n",
    "    `OPEN_AI_TOKEN = \"<YOUR API KEY>\"`\n",
    "- Install the python-dotenv library to securely manage your credentials by running `pip install python-dotenv` in your terminal."
   ]
  },
  {
   "cell_type": "code",
   "execution_count": null,
   "id": "28487a7b",
   "metadata": {},
   "outputs": [],
   "source": [
    "# run this cell to to install python-dotenv\n",
    "# !pip install python-dotenv"
   ]
  },
  {
   "cell_type": "markdown",
   "id": "8d3957a1",
   "metadata": {},
   "source": [
    "**Step 2: Create a new Python file**\n",
    "- Open your preferred Python development environment or text editor.\n",
    "- Create a new Python file and save it as `chatbot.py`."
   ]
  },
  {
   "cell_type": "markdown",
   "id": "0dbed1cf",
   "metadata": {},
   "source": [
    "**Step 3: Import the necessary libraries**\n",
    "For a simple chatbot, there are three important libraries that you will need to utilize:\n",
    "\n",
    "- **dot-env:** the dotenv library allows us to securely store sensitive information, such as the OpenAI API key, in a separate configuration file. This ensures that our API key is not exposed in the codebase. \n",
    "\n",
    "- **time:** the time library enables us to introduce delays or pauses in the conversation flow. This serves the purpose of reducing the rate of the requests as well as creating a more natural and human-like interaction between the user and the chatbot.\n",
    "\n",
    "- **openai:**: the openai library provides a convenient interface to interact with the OpenAI API, allowing us to easily send prompts and receive responses from powerful language models, such as Davinci, facilitating the creation of an intelligent and dynamic chatbot.\n",
    "\n",
    "\n",
    "- To use these libraries, we import them into our Python file using the code below."
   ]
  },
  {
   "cell_type": "code",
   "execution_count": null,
   "id": "45aa63a5",
   "metadata": {},
   "outputs": [],
   "source": [
    "# import openai\n",
    "# from dotenv import load_dotenv\n",
    "# load_dotenv()\n",
    "# import time"
   ]
  },
  {
   "cell_type": "markdown",
   "id": "cf9a4a6c",
   "metadata": {},
   "source": [
    "**Step 4: Set up your OpenAI API key**\n",
    "- After importing the libraries, set up your OpenAI API key by adding the following line of code:"
   ]
  },
  {
   "cell_type": "code",
   "execution_count": null,
   "id": "a3bdc4d8",
   "metadata": {},
   "outputs": [],
   "source": [
    "# openai.api_key = 'YOUR_API_KEY'"
   ]
  },
  {
   "cell_type": "markdown",
   "id": "6cb23014",
   "metadata": {},
   "source": [
    "**Step 5: Define the chatbot function**\n",
    "- Create a function named `chat_with_chatbot` that interacts with the chatbot using the OpenAI API:\n",
    "\n",
    "This function sends a message to the chatbot and retrieves a response from the OpenAI API."
   ]
  },
  {
   "cell_type": "code",
   "execution_count": null,
   "id": "6240c85d",
   "metadata": {},
   "outputs": [],
   "source": [
    "# def chat_with_chatbot(message):\n",
    "#     response = openai.Completion.create(\n",
    "#         engine='davinci',\n",
    "#         prompt=message,\n",
    "#         max_tokens=50,\n",
    "#         temperature=0.7,\n",
    "#         n=1,\n",
    "#         stop=None,\n",
    "#         timeout=15,\n",
    "#     )\n",
    "#     if response['choices']:\n",
    "#         return response['choices'][0]['text'].strip()\n",
    "#     else:\n",
    "#         return \"\""
   ]
  },
  {
   "cell_type": "markdown",
   "id": "23f203a6",
   "metadata": {},
   "source": [
    "**Step 6: Create the main function**\n",
    "- Define a main function to run the chatbot, then set up the initial prompt to start the conversation.\n",
    "- Start a conversation loop using a `while` loop that serves the user prompts to the OpenAI API.\n",
    "- This loop continues until the user enters \"exit\" to end the conversation. It takes user input, adds it to the prompt, sends it to the chatbot function for a response, and then prints and updates the prompt accordingly.\n",
    "- Make sure to use the `time` library to pause the loop in between prompts. This will prevent you from exceeding the APIs rate-limits. "
   ]
  },
  {
   "cell_type": "code",
   "execution_count": null,
   "id": "ff8316f4",
   "metadata": {},
   "outputs": [],
   "source": [
    "# # Main function to run the chatbot\n",
    "# def main():\n",
    "#     print(\"Welcome to the Chatbot!\")\n",
    "#     print(\"You can start chatting. Enter 'exit' to end the conversation.\")\n",
    "\n",
    "#     # Initial prompt to start the conversation\n",
    "#     prompt = \"You: Hi, how can I assist you today?\\nChatbot:\"\n",
    "\n",
    "#     while True:\n",
    "#         user_input = input(prompt)\n",
    "\n",
    "#         if user_input.lower() == 'exit':\n",
    "#             print(\"Chatbot: Goodbye! Have a great day!\")\n",
    "#             break\n",
    "\n",
    "#         prompt += ' ' + user_input.strip() + '\\nChatbot:'\n",
    "#         response = chat_with_chatbot(prompt)\n",
    "\n",
    "#         if response:\n",
    "#             print(response)\n",
    "#             prompt += ' ' + response + '\\nChatbot:'\n",
    "#         else:\n",
    "#             print(\"Chatbot: Sorry, I couldn't generate a response. Can you please rephrase or provide more information?\")\n",
    "\n",
    "#         time.sleep(1)  # Delay for smoother conversation flow and to ensure you stay within rate limits"
   ]
  },
  {
   "cell_type": "markdown",
   "id": "71e8162f",
   "metadata": {},
   "source": [
    "Step 9: Run the main function\n",
    "- Add the following code at the end of your file to execute the main function when the script is run directly:"
   ]
  },
  {
   "cell_type": "code",
   "execution_count": null,
   "id": "166e6d22",
   "metadata": {},
   "outputs": [],
   "source": [
    "# if __name__ == '__main__':\n",
    "#     main()"
   ]
  },
  {
   "cell_type": "markdown",
   "id": "60e35701",
   "metadata": {},
   "source": [
    "Step 10: Run the chatbot\n",
    "- Save your Python file and run it using your Python interpreter.\n",
    "- The chatbot will start with the initial prompt, and you can input messages to interact with it.\n",
    "- Type \"exit\" to end the conversation."
   ]
  },
  {
   "cell_type": "markdown",
   "id": "06792f5c",
   "metadata": {},
   "source": [
    "This is what your script should look like:"
   ]
  },
  {
   "cell_type": "code",
   "execution_count": null,
   "id": "9f53ec2d",
   "metadata": {},
   "outputs": [],
   "source": [
    "# import openai\n",
    "# import time\n",
    "\n",
    "# # Set up your OpenAI API key\n",
    "# openai.api_key = 'YOUR_API_KEY'\n",
    "\n",
    "# # Define a function to interact with the chatbot\n",
    "# def chat_with_chatbot(message):\n",
    "#     response = openai.Completion.create(\n",
    "#         engine='davinci',\n",
    "#         prompt=message,\n",
    "#         max_tokens=50,\n",
    "#         temperature=0.7,\n",
    "#         n=1,\n",
    "#         stop=None,\n",
    "#         timeout=15,\n",
    "#     )\n",
    "#     if response['choices']:\n",
    "#         return response['choices'][0]['text'].strip()\n",
    "#     else:\n",
    "#         return \"\"\n",
    "\n",
    "# # Main function to run the chatbot\n",
    "# def main():\n",
    "#     print(\"Welcome to the Chatbot!\")\n",
    "#     print(\"You can start chatting. Enter 'exit' to end the conversation.\")\n",
    "\n",
    "#     # Initial prompt to start the conversation\n",
    "#     prompt = \"You: Hi, how can I assist you today?\\nChatbot:\"\n",
    "\n",
    "#     while True:\n",
    "#         user_input = input(prompt)\n",
    "\n",
    "#         if user_input.lower() == 'exit':\n",
    "#             print(\"Chatbot: Goodbye! Have a great day!\")\n",
    "#             break\n",
    "\n",
    "#         prompt += ' ' + user_input.strip() + '\\nChatbot:'\n",
    "#         response = chat_with_chatbot(prompt)\n",
    "\n",
    "#         if response:\n",
    "#             print(response)\n",
    "#             prompt += ' ' + response + '\\nChatbot:'\n",
    "#         else:\n",
    "#             print(\"Chatbot: Sorry, I couldn't generate a response. Can you please rephrase or provide more information?\")\n",
    "\n",
    "#         time.sleep(1)  # Delay for smoother conversation flow\n",
    "\n",
    "# if __name__ == '__main__':\n",
    "#     main()"
   ]
  }
 ],
 "metadata": {
  "kernelspec": {
   "display_name": "Python 3.11.1 (spacy)",
   "language": "python",
   "name": "venv_spacy"
  },
  "language_info": {
   "codemirror_mode": {
    "name": "ipython",
    "version": 3
   },
   "file_extension": ".py",
   "mimetype": "text/x-python",
   "name": "python",
   "nbconvert_exporter": "python",
   "pygments_lexer": "ipython3",
   "version": "3.11.1"
  }
 },
 "nbformat": 4,
 "nbformat_minor": 5
}
